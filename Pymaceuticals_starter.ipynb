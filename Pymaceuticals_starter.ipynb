{
 "cells": [
  {
   "cell_type": "markdown",
   "metadata": {},
   "source": [
    "## Observations and Insights "
   ]
  },
  {
   "cell_type": "markdown",
   "metadata": {},
   "source": []
  },
  {
   "cell_type": "code",
   "execution_count": null,
   "metadata": {},
   "outputs": [],
   "source": [
    "# Dependencies and Setup\n",
    "import matplotlib.pyplot as plt\n",
    "import pandas as pd\n",
    "import scipy.stats as st\n",
    "import numpy as np\n",
    "from scipy.stats import sem\n",
    "from scipy.stats import linregress\n",
    "\n",
    "# Study data files\n",
    "mouse_metadata_path = \"../Resources/Mouse_metadata.csv\"\n",
    "study_results_path = \"../Resources/Study_results.csv\"\n",
    "\n",
    "# Read the mouse data and the study results\n",
    "mouse_metadata = pd.read_csv(mouse_metadata_path)\n",
    "study_results = pd.read_csv(study_results_path)\n",
    "\n",
    "# Combine the data into a single dataset\n",
    "results_df =pd.merge(mouse_metadata,study_results, how='outer', on='Mouse ID' )\n",
    "# Display the data table for preview\n",
    "results_df.head()\n"
   ]
  },
  {
   "cell_type": "code",
   "execution_count": null,
   "metadata": {},
   "outputs": [],
   "source": [
    "results_cols = ['Mouse_ID', 'Drug_Regimen', 'Sex', 'Age_months', 'Weight', 'Timepoint', \n",
    "              'Tumor_Vol_mm3', 'Metastatic_Sites']"
   ]
  },
  {
   "cell_type": "code",
   "execution_count": null,
   "metadata": {},
   "outputs": [],
   "source": [
    "results_df.columns = results_cols\n",
    "results_df.head()"
   ]
  },
  {
   "cell_type": "code",
   "execution_count": null,
   "metadata": {},
   "outputs": [],
   "source": [
    "# Checking the number of mice.\n",
    "TL_Mice= results_df['Mouse_ID'].count()\n",
    "print(TL_Mice)"
   ]
  },
  {
   "cell_type": "code",
   "execution_count": null,
   "metadata": {},
   "outputs": [],
   "source": [
    "# Getting the duplicate mice by ID number that shows up for Mouse ID and Timepoint. \n",
    "results_df.duplicated(subset=['Mouse_ID', 'Timepoint']).sum()"
   ]
  },
  {
   "cell_type": "code",
   "execution_count": null,
   "metadata": {},
   "outputs": [],
   "source": [
    "# Optional: Get all the data for the duplicate mouse ID. \n",
    "results_df.loc[results_df.duplicated(subset=['Mouse_ID', 'Timepoint']), :]"
   ]
  },
  {
   "cell_type": "code",
   "execution_count": null,
   "metadata": {},
   "outputs": [],
   "source": [
    "# Create a clean DataFrame by dropping the duplicate mouse by its ID.\n",
    "results_df = results_df.drop_duplicates(subset=['Mouse_ID', 'Timepoint'], keep='last')"
   ]
  },
  {
   "cell_type": "code",
   "execution_count": null,
   "metadata": {},
   "outputs": [],
   "source": [
    "# Checking the number of mice in the clean DataFrame.\n",
    "results_df['Mouse_ID'].shape"
   ]
  },
  {
   "cell_type": "markdown",
   "metadata": {},
   "source": [
    "## Summary Statistics"
   ]
  },
  {
   "cell_type": "code",
   "execution_count": null,
   "metadata": {},
   "outputs": [],
   "source": [
    "# Generate a summary statistics table of mean, median, variance, standard deviation, and SEM of the tumor volume for each regimen\n",
    "\n",
    "# Use groupby and summary statistical methods to calculate the following properties of each drug regimen: \n",
    "# mean, median, variance, standard deviation, and SEM of the tumor volume. \n",
    "# Assemble the resulting series into a single summary dataframe.\n",
    "result_mean = round(results_df.groupby('Drug_Regimen').Tumor_Vol_mm3.mean(),2)\n",
    "result_median = round(results_df.groupby('Drug_Regimen').Tumor_Vol_mm3.median(),2)\n",
    "result_variance = round(results_df.groupby('Drug_Regimen').Tumor_Vol_mm3.var(),2)\n",
    "result_std = round(results_df.groupby('Drug_Regimen').Tumor_Vol_mm3.std(),2)\n",
    "result_sem =  round(results_df.groupby('Drug_Regimen').Tumor_Vol_mm3.sem(),2)\n",
    "\n",
    "\n",
    "Summary_Stat = pd.concat([result_mean, result_median, result_variance, result_std, result_sem], \n",
    "                         axis = 'columns', sort = True)\n",
    "Summary_Stat.columns = ['Mean', 'Median', 'Variance', 'Standard Deviation', 'SEM']\n",
    "Summary_Stat"
   ]
  },
  {
   "cell_type": "code",
   "execution_count": null,
   "metadata": {},
   "outputs": [],
   "source": [
    "# Generate a summary statistics table of mean, median, variance, standard deviation, and SEM of the tumor volume for each regimen\n",
    "\n",
    "# Using the aggregation method, produce the same summary statistics in a single line\n",
    "Regimen_Tumor = results_df.groupby(['Drug_Regimen'])\n",
    "\n",
    "Agg_Stat= round(Regimen_Tumor.agg(['mean', 'median', 'var', 'std', 'sem']),2)\n",
    "\n",
    "Aggr_Stat = Agg_Stat.Tumor_Vol_mm3\n",
    "Aggr_Stat.columns = ['Mean', 'Median', 'Variance', 'Standard Deviation', 'SEM']\n",
    "Aggr_Stat\n"
   ]
  },
  {
   "cell_type": "markdown",
   "metadata": {},
   "source": [
    "## Bar and Pie Charts"
   ]
  },
  {
   "cell_type": "code",
   "execution_count": null,
   "metadata": {},
   "outputs": [],
   "source": [
    "# Generate a bar plot showing the total number of measurements taken on each drug regimen using pandas.\n",
    "group_regimen = results_df.groupby('Drug_Regimen')\n",
    "sum_regimen = group_regimen.count()\n",
    "regimen_bar = sum_regimen.plot(kind = 'bar', y = 'Tumor_Vol_mm3', \n",
    "                               title = 'Pymaceuticals Summary Drug Regimen', label = 'Tumor Vol', rot = '45')\n",
    "regimen_bar.set_ylabel('Total Test Count')"
   ]
  },
  {
   "cell_type": "code",
   "execution_count": null,
   "metadata": {},
   "outputs": [],
   "source": [
    "# Generate a bar plot showing the total number of measurements taken on each drug regimen using pyplot.\n",
    "measurement = results_df.groupby(['Drug_Regimen'], as_index=True).agg('count')\n",
    "measurement = measurement['Tumor_Vol_mm3']\n",
    "x_axis = measurement.index\n",
    "plt.figure(figsize=(10,4))\n",
    "plt.bar(x_axis, measurement, alpha = 0.5, align= 'center', color = 'b')\n",
    "tick_locations = [value for value in x_axis]\n",
    "plt.xticks(tick_locations, x_axis, rotation = '45')\n",
    "plt.xlim(-0.75, len(x_axis)-0.25)\n",
    "plt.ylim(0, max(measurement)+10)\n",
    "plt.title (\"Pymaceuticals Summary\")\n",
    "plt.xlabel (\"Drug Regimen\")\n",
    "plt.ylabel(\"Tumor Vol Test Count\")\n",
    "plt.show()"
   ]
  },
  {
   "cell_type": "code",
   "execution_count": null,
   "metadata": {},
   "outputs": [],
   "source": [
    "# Generate a pie plot showing the distribution of female versus male mice using pandas\n",
    "gender_group = results_df.groupby('Sex')\n",
    "sum_gender = gender_group.count()\n",
    "gender_pie = sum_gender.plot(kind ='pie', y='Mouse_ID', title = 'Mice Distribution', \n",
    "                            colors=['r', 'b'], explode=[0,0.1])\n",
    "gender_pie.set_ylabel('Mouse Count')\n",
    "plt.axis(\"equal\")"
   ]
  },
  {
   "cell_type": "code",
   "execution_count": null,
   "metadata": {},
   "outputs": [],
   "source": [
    "# Generate a pie plot showing the distribution of female versus male mice using pyplot\n",
    "\n",
    "gender_Male = results_df.loc[results_df['Sex']=='Male']\n",
    "Male_Mouse = len(gender_Male)\n",
    "gender_Female = results_df.loc[results_df['Sex']=='Female']\n",
    "Female_Mouse = len(gender_Female)\n",
    "labels = [\"Male\", \"Female\"]\n",
    "size = [Male_Mouse, Female_Mouse]\n",
    "colors = ['b', 'pink']\n",
    "explode = (0,0.1)\n",
    "plt.pie(size, explode=explode, labels = labels, colors = colors, \n",
    "       autopct=\"%1.1f%%\", shadow=True, startangle=140)\n",
    "plt.show()"
   ]
  },
  {
   "cell_type": "markdown",
   "metadata": {},
   "source": [
    "## Quartiles, Outliers and Boxplots"
   ]
  },
  {
   "cell_type": "code",
   "execution_count": null,
   "metadata": {},
   "outputs": [],
   "source": [
    "# Calculate the final tumor volume of each mouse across four of the treatment regimens:  \n",
    "# Capomulin, Ramicane, Infubinol, and Ceftamin\n",
    "\n",
    "Regimen_Filter= results_df[results_df.Drug_Regimen.isin(['Capomulin', 'Ramicane', 'Infubinol', 'Ceftamin'])]\n",
    "\n",
    "Regimen_Vol = pd.DataFrame(Regimen_Filter,columns=['Drug_Regimen', 'Tumor_Vol_mm3'])\n",
    "Regimen_Vol = round(Regimen_Vol.groupby(['Drug_Regimen']).agg('max'),2)\n",
    "\n",
    "Regimen_TimePoint = pd.DataFrame(Regimen_Filter,columns=['Drug_Regimen', 'Timepoint'])\n",
    "Regimen_TimePoint =Regimen_TimePoint.groupby(['Drug_Regimen']).agg('max')\n",
    "\n",
    "Regimen_Summary =pd.merge(Regimen_Vol, Regimen_TimePoint, how='left', on='Drug_Regimen')\n",
    "Regimen_Summary"
   ]
  },
  {
   "cell_type": "code",
   "execution_count": null,
   "metadata": {},
   "outputs": [],
   "source": [
    "# Put treatments into a list for for loop (and later for plot labels)\n",
    "Regimens = ['Capomulin', 'Ramicane', 'Infubinol', 'Ceftamin']\n",
    "\n",
    "# Create empty list to fill with tumor vol data (for plotting)\n",
    "tumor_vol = []\n",
    "\n",
    "tumor_vol = [x for x in results_df['Tumor_Vol_mm3']]\n",
    "for x in results_df.iterrows(Regimens):\n",
    "    #tumor_vol.append(['Tumor_Vol_mm3']['tumor_vol'])\n",
    "    print(Regimens)\n",
    "# Calculate the IQR and quantitatively determine if there are any potential outliers. \n",
    "  # Locate the rows which contain mice on each drug and get the tumor volumes\n",
    "\n",
    "    \n",
    "    # add subset \n",
    "    \n",
    "    \n",
    "    # Determine outliers using upper and lower bounds\n",
    "    \n",
    "quartiles = results_df['Tumor_Vol_mm3'].quantile([.25,.5,.75])\n",
    "lowerq = round(quartiles[0.25],2)\n",
    "upperq = round(quartiles[0.75],2)\n",
    "iqr = upperq-lowerq\n",
    "print(f\"The lower quartile of occupancy is: {lowerq}\")\n",
    "print(f\"The upper quartile of occupancy is: {upperq}\")\n",
    "print(f\"The interquartile range of occupancy is: {iqr}\")"
   ]
  },
  {
   "cell_type": "code",
   "execution_count": null,
   "metadata": {},
   "outputs": [],
   "source": [
    "# Generate a box plot of the final tumor volume of each mouse across four regimens of interest\n",
    "capomulin = results_df.loc[results_df.Drug_Regimen==\"Capomulin\"]['Tumor_Vol_mm3']\n",
    "ramicane = results_df.loc[results_df.Drug_Regimen==\"Ramicane\"]['Tumor_Vol_mm3']\n",
    "infubinol = results_df.loc[results_df.Drug_Regimen==\"Infubinol\"]['Tumor_Vol_mm3']\n",
    "ceftamin = results_df.loc[results_df.Drug_Regimen==\"Ceftamin\"]['Tumor_Vol_mm3']\n",
    "\n",
    "labels = ['Capomulin', 'Ramicane', 'Infubinol', 'Ceftamin']\n",
    "plt.boxplot([capomulin, ramicane, infubinol, ceftamin], labels= labels)\n",
    "plt.show()"
   ]
  },
  {
   "cell_type": "markdown",
   "metadata": {},
   "source": [
    "## Line and Scatter Plots"
   ]
  },
  {
   "cell_type": "code",
   "execution_count": null,
   "metadata": {},
   "outputs": [],
   "source": [
    "# Generate a line plot of tumor volume vs. time point for a mouse treated with Capomulin\n",
    "regimen = results_df.loc[results_df['Drug_Regimen']=='Capomulin']\n",
    "x_axis = regimen['Tumor_Vol_mm3']\n",
    "y_axis = regimen['Timepoint']\n",
    "plt.figure(figsize=(10,4))\n",
    "plt.plot(x_axis,marker='o', label = 'Tumor Vol')\n",
    "plt.plot(y_axis, marker ='^', label = 'Time Point')\n",
    "plt.title(\"Capomulin - Tumor volume vs time point\")\n",
    "plt.legend(loc = \"best\")\n",
    "plt.show()\n"
   ]
  },
  {
   "cell_type": "code",
   "execution_count": null,
   "metadata": {},
   "outputs": [],
   "source": [
    "# Generate a scatter plot of average tumor volume vs. mouse weight for the Capomulin regimen\n",
    "regimen = results_df.loc[results_df['Drug_Regimen']=='Capomulin']\n",
    "regimen.plot(kind = 'scatter', x='Tumor_Vol_mm3', y='Weight', title = \"Tumor Vol vs Mouse Weight\")\n",
    "plt.show()"
   ]
  },
  {
   "cell_type": "markdown",
   "metadata": {},
   "source": [
    "## Correlation and Regression"
   ]
  },
  {
   "cell_type": "code",
   "execution_count": null,
   "metadata": {},
   "outputs": [],
   "source": [
    "# Calculate the correlation coefficient and linear regression model \n",
    "# for mouse weight and average tumor volume for the Capomulin regimen\n",
    "regimen = results_df.loc[results_df['Drug_Regimen']=='Capomulin']\n",
    "weight = regimen.iloc[:,4]\n",
    "tumor = regimen.iloc[:,6]\n",
    "correlation = st.pearsonr(weight,tumor)\n",
    "print(f\"The correlation between mouse weight and aeverage tumor volume for Capomuilin regimen is {round(correlation[0],2)}\")\n",
    "x_values = weight\n",
    "y_values = tumor\n",
    "(slope, intercept, rvalue, pvalue, stderr) = linregress(x_values, y_values)\n",
    "regress_values = x_values * slope + intercept\n",
    "line_eq = \"y = \" + str(round(slope,2)) + \"x + \" + str(round(intercept,2))\n",
    "plt.scatter(x_values,y_values)\n",
    "plt.plot(x_values,regress_values,\"r-\")\n",
    "plt.annotate(line_eq,(6,10),fontsize=15,color=\"red\")\n",
    "plt.xlabel('Mouse Weight')\n",
    "plt.ylabel('Average Tumor volume')\n",
    "plt.show()"
   ]
  },
  {
   "cell_type": "code",
   "execution_count": null,
   "metadata": {},
   "outputs": [],
   "source": []
  }
 ],
 "metadata": {
  "anaconda-cloud": {},
  "kernelspec": {
   "display_name": "Python 3",
   "language": "python",
   "name": "python3"
  },
  "language_info": {
   "codemirror_mode": {
    "name": "ipython",
    "version": 3
   },
   "file_extension": ".py",
   "mimetype": "text/x-python",
   "name": "python",
   "nbconvert_exporter": "python",
   "pygments_lexer": "ipython3",
   "version": "3.7.4"
  }
 },
 "nbformat": 4,
 "nbformat_minor": 4
}
